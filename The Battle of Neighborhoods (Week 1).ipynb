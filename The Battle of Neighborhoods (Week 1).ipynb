{
    "cells": [
        {
            "cell_type": "markdown",
            "metadata": {
                "collapsed": true
            },
            "source": "<b> New residential targets for young Jewish families IN the U.S </b>"
        },
        {
            "cell_type": "markdown",
            "metadata": {},
            "source": "<h1> Business Understanding </h1>"
        },
        {
            "cell_type": "markdown",
            "metadata": {},
            "source": "<p>When a young couple is looking for a residential environment, planning their future and raising their children, it will take into account parameters such as the cost of housing, the cost of living, the nature of the neighborhood and so on.\n\nFor a religious Jewish family, the challenge is much more difficult.\nThey are also required to take into account a Jewish community that fits their lifestyle, a synagogue within walking distance, appropriate educational institutions, service providers and shops that match and serve the Jewish way of life.\nHowever, in the large concentrations of Jewish communities in the United States, the overcrowding is high, the cost of living climbs, and it is very difficult to find apartments at a reasonable price.\nTherefore, many young families are trying to find a suitable residential and community environment in small and remote places from the large centers, but still the basic conditions that a Jewish family needs will exist.\nIf so, the problem I want to help solve is:\nWhat are the favorite places to live for a Jewish family in the United States, outside of the large Jewish communities.. We will divide the Jewish communities into clusters according to criteria such as the size of the Jewish community, proximity to educational institutions, synagogues, kosher food and more.\nAccording to the division, the preferred places for the Jewish family were determined </p>"
        },
        {
            "cell_type": "markdown",
            "metadata": {},
            "source": "<h1> Data Section </h1>"
        },
        {
            "cell_type": "markdown",
            "metadata": {},
            "source": "<b> Part 1 </b>"
        },
        {
            "cell_type": "markdown",
            "metadata": {},
            "source": "<p> In this part, I would like to find data on the various communities across the United States, their size, average age, community development over the years, and more details as far as I can find.\nThe goal is to identify young and developing communities outside the larger communities.\n\nWikipedia\nData from the World Jewish Congress website\nBERMAN JEWISH DATABANK\nExample of population table by communities - Wikipedia\n\n<table>\n  <tr>\n    <th colspan=\"2\">Rank</th>\n    <th>Metro area</th>\n      <th colspan=\"2\">Number of Jews </th>\n   \n  </tr>\n  <tr>\n    <td><b> (WJC) </b></td>\n    <td> <b> (ARDA) </b> </td>\n    <td> </td>\n    <td> <b> (WJC) </b> </td>\n    <td> <b> (ASARB) </b> </td>\n  </tr>\n    <tr>\n    <td>1</td>\n    <td>1</td>\n    <td>New York City</td>\n    <td>1,750,000</td>\n    <td>2,028,200</td>\n  </tr>\n    <tr>\n    <td>2</td>\n    <td>3</td>\n    <td>Miami</td>\n    <td>535,000</td>\n    <td>337,000</td>\n  </tr>\n      <tr>\n    <td>3</td>\n    <td>2</td>\n    <td>Los Angeles</td>\n    <td>490,000</td>\n    <td>662,450</td>\n  </tr>\n      <tr>\n    <td>4</td>\n    <td>4</td>\n    <td>Philadelphia</td>\n    <td>254,000</td>\n    <td>285,950</td>\n  </tr>\n      <tr>\n    <td>5</td>\n    <td>6</td>\n    <td>Chicago</td>\n    <td>248,000</td>\n    <td>265,400</td>\n  </tr>\n      <tr>\n    <td>6</td>\n    <td>8</td>\n    <td>San Francisco</td>\n    <td>210,000</td>\n    <td>2,028,200</td>\n  </tr>\n      <tr>\n    <td>7</td>\n    <td>7</td>\n    <td>Boston</td>\n    <td>1,750,000</td>\n    <td>2,028,200</td>\n  </tr>\n    <tr>\n    <td>8</td>\n    <td>5</td>\n    <td>Baltimore\u2013Washington</td>\n    <td>1,750,000</td>\n    <td>2,028,200</td>\n  </tr>\n</table></p>"
        },
        {
            "cell_type": "code",
            "execution_count": null,
            "metadata": {},
            "outputs": [],
            "source": ""
        }
    ],
    "metadata": {
        "kernelspec": {
            "display_name": "Python 3.6",
            "language": "python",
            "name": "python3"
        },
        "language_info": {
            "codemirror_mode": {
                "name": "ipython",
                "version": 3
            },
            "file_extension": ".py",
            "mimetype": "text/x-python",
            "name": "python",
            "nbconvert_exporter": "python",
            "pygments_lexer": "ipython3",
            "version": "3.6.9"
        }
    },
    "nbformat": 4,
    "nbformat_minor": 1
}